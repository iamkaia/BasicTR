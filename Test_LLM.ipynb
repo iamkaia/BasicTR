{
 "cells": [
  {
   "cell_type": "code",
   "execution_count": 1,
   "metadata": {},
   "outputs": [],
   "source": [
    "#%%\n",
    "#this enviornment is LLM\n",
    "import torch\n",
    "import gc\n",
    "from transformers import GPT2Tokenizer, GPT2LMHeadModel\n",
    "import mlflow\n",
    "\n",
    "device = torch.device(\"cuda\" if torch.cuda.is_available() else \"cpu\")"
   ]
  },
  {
   "cell_type": "code",
   "execution_count": 3,
   "metadata": {},
   "outputs": [
    {
     "name": "stderr",
     "output_type": "stream",
     "text": [
      "/home/kaia/miniforge3/envs/LLM/lib/python3.10/site-packages/transformers/tokenization_utils_base.py:1617: FutureWarning: `clean_up_tokenization_spaces` was not set. It will be set to `True` by default. This behavior will be deprecated in transformers v4.45, and will be then set to `False` by default. For more details check this issue: https://github.com/huggingface/transformers/issues/31884\n",
      "  warnings.warn(\n"
     ]
    },
    {
     "name": "stdout",
     "output_type": "stream",
     "text": [
      "0 sentences: The first time I saw the film was in the early '90s. Let's continue the story in English. The idea is to see a man who has been arrested for being gay, and he comes out as bisexual.\n",
      "1 sentences: Gigi Hadid is beautiful.  She's a goddess, and she loves to play with her dolls!\n"
     ]
    }
   ],
   "source": [
    "# 加载 GPT-2 模型和分词器\n",
    "tokenizer = GPT2Tokenizer.from_pretrained(\"gpt2\")\n",
    "model = GPT2LMHeadModel.from_pretrained(\"gpt2\")\n",
    "\n",
    "\n",
    "# 設置 tokenizer 為左側填充\n",
    "tokenizer.padding_side = 'left'\n",
    "\n",
    "'''\n",
    "texts = \"how are you?\"\n",
    "\n",
    "input = tokenizer(texts, return_tensors=\"pt\", padding=False)\n",
    "\n",
    "print(input)\n",
    "\n",
    "input = input\n",
    "#output = tokenizer.decode(input['input_ids'], skip_special_tokens=True)\n",
    "output = tokenizer.decode(4919, skip_special_tokens=True)\n",
    "'''\n",
    "\n",
    "\n",
    "# 输入文本\n",
    "texts = [\"The first time I saw the film was in the early '90s. Let's continue the story in English.\",\"Gigi Hadid is beautiful. \"]\n",
    "\n",
    "# 将文本转换为模型输入\n",
    "tokenizer.pad_token = tokenizer.eos_token\n",
    "input = tokenizer(texts, return_tensors=\"pt\", padding=True, return_attention_mask=True)#, if texts is a list\n",
    "#inputs_ids = will be a list of a token_id(for each word in one sentences) \n",
    "#inputs 里会包含 attention_mask\n",
    "input.to(device)\n",
    "input_ids = input['input_ids']\n",
    "attention_mask = input['attention_mask']\n",
    "\n",
    "#print(input_ids)\n",
    "#print(attention_mask)\n",
    "# 使用模型生成文本\n",
    "model.to(device)\n",
    "##clean_up_tokenization_spaces清除額外空格\n",
    "##max_new_tokens：新生成的 token 的最大數量\n",
    "output = model.generate(\n",
    "    input_ids,\n",
    "    do_sample=True,\n",
    "    temperature=0.7,  # 控制生成的隨機性\n",
    "    max_new_tokens=50,  # 控制生成長度\n",
    "    top_p=0.9,  # 使用 nucleus sampling\n",
    "    top_k=50,  # 考慮前 50 個 token\n",
    "    repetition_penalty=2.0,\n",
    "    pad_token_id=tokenizer.eos_token_id,  # 填充 token\n",
    "    eos_token_id=tokenizer.eos_token_id,  # 結束 token\n",
    "    num_return_sequences=1\n",
    "    #clean_up_tokenization_spaces=True   #if use generator in pipeline or mayber gpt-4 than set the value\n",
    ")\n",
    "##num_return_sequences=1\n",
    "#print(output.shape)\n",
    "#print(len(output))\n",
    "for i in range(len(output)):##沒有一次generate的嗎?\n",
    "    '''\n",
    "    print(output[i].shape)\n",
    "    generated_text = tokenizer.decode(output[i], skip_special_tokens=True)\n",
    "    '''\n",
    "    generated_text = tokenizer.decode(output[i], skip_special_tokens=True)\n",
    "    # on purpose of to make sure that a sentences end in some certain  Marks.\n",
    "    if not generated_text[-1] in \".!?\":\n",
    "        last_punctuation = max(generated_text.rfind(p) for p in \".!?\")\n",
    "        if last_punctuation != -1:\n",
    "            generated_text = generated_text[:last_punctuation + 1]\n",
    "    print(f\"{i} sentences: {generated_text}\")\n",
    "\n",
    "\n"
   ]
  },
  {
   "cell_type": "code",
   "execution_count": null,
   "metadata": {},
   "outputs": [],
   "source": []
  },
  {
   "cell_type": "code",
   "execution_count": 2,
   "metadata": {},
   "outputs": [],
   "source": [
    "#finetune:\n",
    "\n",
    "\n",
    "#the model which pretrain to save in the local\n",
    "model.save_pretrained('./gpt2_local_model')\n",
    "tokenizer.save_pretrained('./gpt2_local_model')\n",
    "\n",
    "from transformers import GPT2Tokenizer, GPT2LMHeadModel\n",
    "\n",
    "tokenizer = GPT2Tokenizer.from_pretrained('./gpt2_local_model')\n",
    "model = GPT2LMHeadModel.from_pretrained('./gpt2_local_model')"
   ]
  },
  {
   "cell_type": "code",
   "execution_count": 3,
   "metadata": {},
   "outputs": [
    {
     "data": {
      "text/plain": [
       "118"
      ]
     },
     "execution_count": 3,
     "metadata": {},
     "output_type": "execute_result"
    }
   ],
   "source": [
    "torch.cuda.empty_cache()\n",
    "gc.collect()"
   ]
  }
 ],
 "metadata": {
  "kernelspec": {
   "display_name": "LLM",
   "language": "python",
   "name": "python3"
  },
  "language_info": {
   "codemirror_mode": {
    "name": "ipython",
    "version": 3
   },
   "file_extension": ".py",
   "mimetype": "text/x-python",
   "name": "python",
   "nbconvert_exporter": "python",
   "pygments_lexer": "ipython3",
   "version": "3.10.15"
  }
 },
 "nbformat": 4,
 "nbformat_minor": 2
}
