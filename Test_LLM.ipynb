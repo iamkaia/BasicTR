{
 "cells": [
  {
   "cell_type": "code",
   "execution_count": 1,
   "metadata": {},
   "outputs": [
    {
     "name": "stderr",
     "output_type": "stream",
     "text": [
      "/home/kaia/miniforge3/envs/LLM/lib/python3.10/site-packages/transformers/tokenization_utils_base.py:1617: FutureWarning: `clean_up_tokenization_spaces` was not set. It will be set to `True` by default. This behavior will be deprecated in transformers v4.45, and will be then set to `False` by default. For more details check this issue: https://github.com/huggingface/transformers/issues/31884\n",
      "  warnings.warn(\n",
      "A decoder-only architecture is being used, but right-padding was detected! For correct generation results, please set `padding_side='left'` when initializing the tokenizer.\n"
     ]
    },
    {
     "name": "stdout",
     "output_type": "stream",
     "text": [
      "torch.Size([2, 100])\n",
      "2\n",
      "Once upon a time, the world was a place of great beauty and great danger. The world was a place of great danger, and the world was a place of great danger. The world was a place of great danger, and the world was a place of great danger. The world was a place of great danger, and the world was a place of great danger. The world was a place of great danger, and the world was a place of great danger. The world was a place of great\n",
      "a girlThe girl is a girl, and she is a girl. She is a girl. She is a girl. She is a girl. She is a girl. She is a girl. She is a girl. She is a girl. She is a girl. She is a girl. She is a girl. She is a girl. She is a girl. She is a girl. She is a girl. She is a girl. She is a girl. She is a girl\n"
     ]
    }
   ],
   "source": [
    "#this enviornment is LLM\n",
    "import torch\n",
    "import gc\n",
    "from transformers import GPT2Tokenizer, GPT2LMHeadModel\n",
    "\n",
    "# 加载 GPT-2 模型和分词器\n",
    "tokenizer = GPT2Tokenizer.from_pretrained(\"gpt2\")\n",
    "model = GPT2LMHeadModel.from_pretrained(\"gpt2\")\n",
    "\n",
    "device = torch.device(\"cuda\" if torch.cuda.is_available() else \"cpu\")\n",
    "model.to(device)\n",
    "\n",
    "\n",
    "# 输入文本\n",
    "input_text = \"Once upon a time\"\n",
    "texts = [\"Once upon a time\",\"a girl\"]\n",
    "\n",
    "# 将文本转换为模型输入\n",
    "tokenizer.pad_token = tokenizer.eos_token\n",
    "input = tokenizer(texts, return_tensors=\"pt\", padding=True)#, if texts is a list\n",
    "#input_ids = tokenizer.encode(input_text, return_tensors='pt')\n",
    "#nputs_ids = will be a list of a token_id(for each word in one sentences) \n",
    "# inputs 里会包含 attention_mask\n",
    "input.to(device)\n",
    "input_ids = input['input_ids']\n",
    "attention_mask = input['attention_mask']\n",
    "\n",
    "#print(input_ids)\n",
    "#print(attention_mask)\n",
    "# 使用模型生成文本\n",
    "#tokenizer.pad_token = tokenizer.eos_token\n",
    "output = model.generate(input_ids, max_length=100, num_return_sequences=1, attention_mask=attention_mask, pad_token_id=tokenizer.eos_token_id)\n",
    "print(output.shape)\n",
    "print(len(output))\n",
    "# 解码并打印输出\n",
    "for i in range(len(output)):##沒有一次generate的嗎?\n",
    "    generated_text = tokenizer.decode(output[i], skip_special_tokens=True)\n",
    "    print(generated_text)\n",
    "\n"
   ]
  },
  {
   "cell_type": "code",
   "execution_count": 2,
   "metadata": {},
   "outputs": [],
   "source": [
    "#the model which pretrain to save in the local\n",
    "model.save_pretrained('./gpt2_local_model')\n",
    "tokenizer.save_pretrained('./gpt2_local_model')\n",
    "\n",
    "from transformers import GPT2Tokenizer, GPT2LMHeadModel\n",
    "\n",
    "tokenizer = GPT2Tokenizer.from_pretrained('./gpt2_local_model')\n",
    "model = GPT2LMHeadModel.from_pretrained('./gpt2_local_model')"
   ]
  },
  {
   "cell_type": "code",
   "execution_count": 3,
   "metadata": {},
   "outputs": [
    {
     "data": {
      "text/plain": [
       "118"
      ]
     },
     "execution_count": 3,
     "metadata": {},
     "output_type": "execute_result"
    }
   ],
   "source": [
    "torch.cuda.empty_cache()\n",
    "gc.collect()"
   ]
  }
 ],
 "metadata": {
  "kernelspec": {
   "display_name": "LLM",
   "language": "python",
   "name": "python3"
  },
  "language_info": {
   "codemirror_mode": {
    "name": "ipython",
    "version": 3
   },
   "file_extension": ".py",
   "mimetype": "text/x-python",
   "name": "python",
   "nbconvert_exporter": "python",
   "pygments_lexer": "ipython3",
   "version": "3.10.15"
  }
 },
 "nbformat": 4,
 "nbformat_minor": 2
}
