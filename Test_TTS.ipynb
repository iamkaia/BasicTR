{
 "cells": [
  {
   "cell_type": "code",
   "execution_count": 4,
   "metadata": {},
   "outputs": [
    {
     "name": "stdout",
     "output_type": "stream",
     "text": [
      "<TTS.utils.manage.ModelManager object at 0x71fa941cb8e0>\n",
      " > tts_models/multilingual/multi-dataset/xtts_v2 is already downloaded.\n",
      " > Using model: xtts\n",
      " > Text splitted to sentences.\n",
      "['Hello world!']\n",
      " > Processing time: 0.7287642955780029\n",
      " > Real-time factor: 0.2540673652525766\n",
      " > Text splitted to sentences.\n",
      "['Hello world!']\n",
      " > Processing time: 2.440126895904541\n",
      " > Real-time factor: 0.2369336911448211\n"
     ]
    },
    {
     "data": {
      "text/plain": [
       "'output_Bigbook_cheating_on_apologize.wav'"
      ]
     },
     "execution_count": 4,
     "metadata": {},
     "output_type": "execute_result"
    }
   ],
   "source": [
    "import torch\n",
    "from TTS.api import TTS\n",
    "#import TTS\n",
    "\n",
    "# Get device\n",
    "device = \"cuda\" if torch.cuda.is_available() else \"cpu\"\n",
    "\n",
    "# List available 🐸TTS models\n",
    "print(TTS().list_models())\n",
    "\n",
    "# Init TTS\n",
    "tts = TTS(\"tts_models/multilingual/multi-dataset/xtts_v2\").to(device)\n",
    "\n",
    "# Run TTS\n",
    "# ❗ Since this model is multi-lingual voice cloning model, we must set the target speaker_wav and language\n",
    "# Text to speech list of amplitude values as output\n",
    "wav = tts.tts(text=\"Hello world!\", speaker_wav=\"data/cloning/Bigbook_cheating_on_apologize.wav\", language=\"zh\")\n",
    "# Text to speech to a file(save file direct)\n",
    "tts.tts_to_file(text=\"Hello world!\", speaker_wav=\"data/cloning/Bigbook_cheating_on_apologize.wav\", language=\"en\", file_path=\"output_Bigbook_cheating_on_apologize.wav\")"
   ]
  }
 ],
 "metadata": {
  "kernelspec": {
   "display_name": "tts",
   "language": "python",
   "name": "python3"
  },
  "language_info": {
   "codemirror_mode": {
    "name": "ipython",
    "version": 3
   },
   "file_extension": ".py",
   "mimetype": "text/x-python",
   "name": "python",
   "nbconvert_exporter": "python",
   "pygments_lexer": "ipython3",
   "version": "3.9.20"
  }
 },
 "nbformat": 4,
 "nbformat_minor": 2
}
